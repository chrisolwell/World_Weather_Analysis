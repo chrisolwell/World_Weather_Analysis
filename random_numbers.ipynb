{
 "cells": [
  {
   "cell_type": "code",
   "execution_count": 1,
   "id": "13e47538",
   "metadata": {},
   "outputs": [],
   "source": [
    "import random"
   ]
  },
  {
   "cell_type": "code",
   "execution_count": 2,
   "id": "b0068ddb",
   "metadata": {},
   "outputs": [
    {
     "data": {
      "text/plain": [
       "0.4448862907316786"
      ]
     },
     "execution_count": 2,
     "metadata": {},
     "output_type": "execute_result"
    }
   ],
   "source": [
    "random.random()"
   ]
  },
  {
   "cell_type": "code",
   "execution_count": 3,
   "id": "0295b0ca",
   "metadata": {
    "scrolled": true
   },
   "outputs": [
    {
     "data": {
      "text/plain": [
       "87"
      ]
     },
     "execution_count": 3,
     "metadata": {},
     "output_type": "execute_result"
    }
   ],
   "source": [
    "random.randint(-90,90)"
   ]
  },
  {
   "cell_type": "code",
   "execution_count": 4,
   "id": "43fba42f",
   "metadata": {},
   "outputs": [
    {
     "data": {
      "text/plain": [
       "46.61127063199691"
      ]
     },
     "execution_count": 4,
     "metadata": {},
     "output_type": "execute_result"
    }
   ],
   "source": [
    "random_number = random.randint(-90, 90) + random.random()\n",
    "random_number"
   ]
  },
  {
   "cell_type": "code",
   "execution_count": 5,
   "id": "ce86409c",
   "metadata": {},
   "outputs": [
    {
     "data": {
      "text/plain": [
       "[26.666402297698465,\n",
       " 18.069662808594266,\n",
       " 47.04799016241443,\n",
       " -79.69899182714173,\n",
       " -87.04064119934317,\n",
       " 10.951916672601968,\n",
       " 9.859113039827076,\n",
       " 36.104668262716004,\n",
       " -56.04152984884084,\n",
       " 72.56989449009895]"
      ]
     },
     "execution_count": 5,
     "metadata": {},
     "output_type": "execute_result"
    }
   ],
   "source": [
    "x = 1\n",
    "latitudes = []\n",
    "while x < 11:\n",
    "    random_lat = random.randint(-90,89) + random.random()\n",
    "    latitudes.append(random_lat)\n",
    "    x += 1\n",
    "latitudes\n"
   ]
  },
  {
   "cell_type": "code",
   "execution_count": 6,
   "id": "94a9b5ff",
   "metadata": {},
   "outputs": [
    {
     "data": {
      "text/plain": [
       "34"
      ]
     },
     "execution_count": 6,
     "metadata": {},
     "output_type": "execute_result"
    }
   ],
   "source": [
    "random.randrange(-90, 90, step=1)"
   ]
  },
  {
   "cell_type": "code",
   "execution_count": 7,
   "id": "54869cf3",
   "metadata": {},
   "outputs": [
    {
     "data": {
      "text/plain": [
       "63"
      ]
     },
     "execution_count": 7,
     "metadata": {},
     "output_type": "execute_result"
    }
   ],
   "source": [
    "random.randrange(-90, 90, step=3)"
   ]
  },
  {
   "cell_type": "code",
   "execution_count": 8,
   "id": "3c8728e3",
   "metadata": {},
   "outputs": [
    {
     "data": {
      "text/plain": [
       "51"
      ]
     },
     "execution_count": 8,
     "metadata": {},
     "output_type": "execute_result"
    }
   ],
   "source": [
    "3*17\n"
   ]
  },
  {
   "cell_type": "code",
   "execution_count": 9,
   "id": "434fce48",
   "metadata": {},
   "outputs": [
    {
     "data": {
      "text/plain": [
       "31.837455044421915"
      ]
     },
     "execution_count": 9,
     "metadata": {},
     "output_type": "execute_result"
    }
   ],
   "source": [
    "random.uniform(-90,90)"
   ]
  },
  {
   "cell_type": "code",
   "execution_count": 10,
   "id": "5ab73611",
   "metadata": {},
   "outputs": [],
   "source": [
    "#IMPORT numPy module\n",
    "import numpy as np\n"
   ]
  },
  {
   "cell_type": "code",
   "execution_count": 11,
   "id": "a7b3200a",
   "metadata": {},
   "outputs": [
    {
     "data": {
      "text/plain": [
       "4.140662104226806"
      ]
     },
     "execution_count": 11,
     "metadata": {},
     "output_type": "execute_result"
    }
   ],
   "source": [
    "np.random.uniform(-90,90)"
   ]
  },
  {
   "cell_type": "code",
   "execution_count": 12,
   "id": "5ded5bc1",
   "metadata": {},
   "outputs": [
    {
     "data": {
      "text/plain": [
       "array([ 88.76557909,  69.36026964,  -1.99328326, -15.59371224,\n",
       "        84.60309522,  39.87325199,   3.42335121, -40.93900408,\n",
       "        -4.88363502,  40.71671238,  53.76848328, -32.50866362,\n",
       "       -72.12183578,  30.72030302,  21.44673289,  79.62575137,\n",
       "        79.29242276, -53.61475802,  72.15994294,  24.68748863,\n",
       "       -27.24726178, -35.86889018,  88.65140744,   1.14689581,\n",
       "       -53.29345874, -71.03834963, -54.96954735,  87.68548088,\n",
       "       -85.80133365,  31.88911765,   1.22719562,   6.70645108,\n",
       "       -38.51002608,  46.81707153,  32.71490693,  -1.25822188,\n",
       "        49.32914826, -45.24046074, -48.65921484, -88.28164739,\n",
       "        39.89823005,  73.28727249,  13.08161042,  -3.18895271,\n",
       "        62.2413887 ,  28.10780419, -60.43728455, -22.035026  ,\n",
       "        56.61110972, -71.42892835])"
      ]
     },
     "execution_count": 12,
     "metadata": {},
     "output_type": "execute_result"
    }
   ],
   "source": [
    "np.random.uniform(-90,90, size=50)"
   ]
  },
  {
   "cell_type": "code",
   "execution_count": 13,
   "id": "1b3c2b06",
   "metadata": {},
   "outputs": [],
   "source": [
    "import timeit\n"
   ]
  },
  {
   "cell_type": "code",
   "execution_count": 14,
   "id": "3a00d0f1",
   "metadata": {},
   "outputs": [
    {
     "name": "stdout",
     "output_type": "stream",
     "text": [
      "28.5 µs ± 631 ns per loop (mean ± std. dev. of 7 runs, 10000 loops each)\n"
     ]
    }
   ],
   "source": [
    "%timeit np.random.uniform(-90,90, size =1500)"
   ]
  },
  {
   "cell_type": "code",
   "execution_count": 15,
   "id": "5fdd7396",
   "metadata": {},
   "outputs": [
    {
     "name": "stdout",
     "output_type": "stream",
     "text": [
      "1.07 µs ± 6.12 ns per loop (mean ± std. dev. of 7 runs, 1000000 loops each)\n"
     ]
    }
   ],
   "source": [
    "def latitudes(size):\n",
    "    latitudes = []\n",
    "    x=0\n",
    "    while x <(size):\n",
    "        random_lat=random.randint(-90,90) + random.random()\n",
    "        latitudes.append(random_lat)\n",
    "        x += 1\n",
    "        return latitudes\n",
    "#call the function with 1500\n",
    "%timeit latitudes(1500)"
   ]
  },
  {
   "cell_type": "code",
   "execution_count": 16,
   "id": "67816741",
   "metadata": {},
   "outputs": [
    {
     "name": "stdout",
     "output_type": "stream",
     "text": [
      "28.3 µs ± 168 ns per loop (mean ± std. dev. of 7 runs, 10000 loops each)\n"
     ]
    },
    {
     "data": {
      "text/plain": [
       "<function __main__.latitudes(size)>"
      ]
     },
     "execution_count": 16,
     "metadata": {},
     "output_type": "execute_result"
    }
   ],
   "source": [
    "%timeit latitudes = np.random.uniform(-90,90, size = 1500)\n",
    "latitudes"
   ]
  },
  {
   "cell_type": "code",
   "execution_count": 17,
   "id": "373ab035",
   "metadata": {},
   "outputs": [],
   "source": [
    "#Import linear regression from the sciPy stats module\n",
    "from scipy.stats import linregress"
   ]
  },
  {
   "cell_type": "code",
   "execution_count": 18,
   "id": "ebe29ea5",
   "metadata": {},
   "outputs": [],
   "source": [
    "#Create a an equal number of lats and temps\n",
    "lats = [42.5, 43.9, 8.1, 36.8, 79.9, 69.31, 25.7, 15.3, 12.7, 64.5]\n",
    "temps = [80.5, 75.3, 90.9, 90.0, 40.4, 62.3, 85.4, 79.6, 72.5, 72.0]"
   ]
  },
  {
   "cell_type": "code",
   "execution_count": 20,
   "id": "afc542bc",
   "metadata": {},
   "outputs": [
    {
     "name": "stdout",
     "output_type": "stream",
     "text": [
      "y = -0.45x+ 92.93\n",
      "The p-value is: 0.011\n"
     ]
    }
   ],
   "source": [
    "#Perform linear regression\n",
    "(slope, intercept, r_value, p_value, std_err) = linregress(lats, temps)\n",
    "#get the equation of the line\n",
    "line_eq = \"y = \" +str(round(slope,2)) + \"x+ \" + str(round(intercept, 2))\n",
    "print(line_eq)\n",
    "print(f\"The p-value is: {p_value:.3f}\")"
   ]
  },
  {
   "cell_type": "code",
   "execution_count": 21,
   "id": "e533447e",
   "metadata": {},
   "outputs": [],
   "source": [
    "#Calculate the regression line \"y values\" from the slope and intercept\n",
    "regress_values = [(lat * slope) for lat in lats]"
   ]
  },
  {
   "cell_type": "code",
   "execution_count": 23,
   "id": "9e22e66e",
   "metadata": {},
   "outputs": [
    {
     "data": {
      "image/png": "[encoded data removed]",
      "text/plain": [
       "<Figure size 432x288 with 1 Axes>"
      ]
     },
     "metadata": {
      "needs_background": "light"
     },
     "output_type": "display_data"
    }
   ],
   "source": [
    "#Import matplotlib\n",
    "import matplotlib.pyplot as plt\n",
    "#Creat a scatter plof of the x and y values\n",
    "plt.scatter(lats, temps)\n",
    "#plot the regression line wiht the x-values and the y-coordinates based on the intercept and slope.\n",
    "plt.plot(lats, regress_values, \"r\")\n",
    "#Annotate the texxt for thline equations and add it's coordinates\n",
    "plt.annotate(line_eq, (10,40), fontsize=15, color=\"red\")\n",
    "plt.xlabel('Latitude')\n",
    "plt.ylabel('Temp')\n",
    "plt.show()\n"
   ]
  },
  {
   "cell_type": "code",
   "execution_count": null,
   "id": "f3f629a3",
   "metadata": {},
   "outputs": [],
   "source": []
  }
 ],
 "metadata": {
  "kernelspec": {
   "display_name": "PythonData",
   "language": "python",
   "name": "pythondata"
  },
  "language_info": {
   "codemirror_mode": {
    "name": "ipython",
    "version": 3
   },
   "file_extension": ".py",
   "mimetype": "text/x-python",
   "name": "python",
   "nbconvert_exporter": "python",
   "pygments_lexer": "ipython3",
   "version": "3.7.11"
  }
 },
 "nbformat": 4,
 "nbformat_minor": 5
}
